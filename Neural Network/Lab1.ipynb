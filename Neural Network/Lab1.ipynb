{
 "cells": [
  {
   "cell_type": "markdown",
   "id": "65667e34",
   "metadata": {},
   "source": [
    "# Задание 1 "
   ]
  },
  {
   "cell_type": "markdown",
   "id": "2d88388f",
   "metadata": {},
   "source": [
    "Сгенерируйте матрицу В размером 3х3 со случайными элементами, равномерно распределенными на интервале от 0 до 1 и найдите её определитель."
   ]
  },
  {
   "cell_type": "code",
   "execution_count": 10,
   "id": "70ba9355",
   "metadata": {},
   "outputs": [
    {
     "name": "stdout",
     "output_type": "stream",
     "text": [
      "[[0.59750644 0.53230443 0.24524329]\n",
      " [0.49685081 0.6904386  0.54544878]\n",
      " [0.76386238 0.72748333 0.4274014 ]]\n"
     ]
    },
    {
     "data": {
      "text/plain": [
       "0.007275470993707562"
      ]
     },
     "execution_count": 10,
     "metadata": {},
     "output_type": "execute_result"
    }
   ],
   "source": [
    "import numpy as np\n",
    "\n",
    "a = np.random.rand(3, 3)\n",
    "print(a)\n",
    "np.linalg.det(a)"
   ]
  },
  {
   "cell_type": "markdown",
   "id": "fb87a5c1",
   "metadata": {},
   "source": [
    "# Задание 2"
   ]
  },
  {
   "cell_type": "markdown",
   "id": "f0c0f7e8",
   "metadata": {},
   "source": [
    "Для двух векторов:\n",
    "С=$\\left( \\begin{matrix}\n",
    "   1  \\\\\n",
    "   2.94  \\\\\n",
    "   -2.2  \\\\\n",
    "   0.1   \\\\   \n",
    "\\end{matrix} \\right)$ и b= {0.6; 3.2; -1.8, 0.05} найти меру косинусного сходства."
   ]
  },
  {
   "cell_type": "code",
   "execution_count": 36,
   "id": "c43f455f",
   "metadata": {},
   "outputs": [
    {
     "data": {
      "text/plain": [
       "0.9864935664827553"
      ]
     },
     "execution_count": 36,
     "metadata": {},
     "output_type": "execute_result"
    }
   ],
   "source": [
    "c = np.array([1, 2.94, -2.2, 0.1]).T\n",
    "b = np.array([0.6, 3.2, -1.8, 0.05])\n",
    "\n",
    "tmp = (c @ b) / (np.linalg.norm(b) * np.linalg.norm(c))\n",
    "tmp"
   ]
  },
  {
   "cell_type": "markdown",
   "id": "34c36901",
   "metadata": {},
   "source": [
    "# Задание 3 "
   ]
  },
  {
   "cell_type": "markdown",
   "id": "536c93a3",
   "metadata": {},
   "source": [
    "Для заданного ниже объекта s проделайте следующее:\n",
    "\n",
    "Создайте новый Series, значения которого совпадают со значениями s, а индексы - целочисленные значения от 4 до 15, не включая 15.\n",
    "Выберите из s только целочисленные элементы и вычислите их дисперсию. (*)\n",
    "\n",
    "Пояснения:\n",
    "Дисперсия рассчитывается с помощью функции из библиотеки numpy: np.var( , ddof=0) или встроенной в python функции: .var(ddof=1)"
   ]
  },
  {
   "cell_type": "code",
   "execution_count": 2,
   "id": "376960d7",
   "metadata": {},
   "outputs": [
    {
     "name": "stdout",
     "output_type": "stream",
     "text": [
      "4         1\n",
      "5         5\n",
      "6       3.1\n",
      "7     hello\n",
      "8        -5\n",
      "9     -1000\n",
      "10    12.78\n",
      "11    world\n",
      "12     10.1\n",
      "13        !\n",
      "14       98\n",
      "dtype: object\n"
     ]
    },
    {
     "ename": "NameError",
     "evalue": "name 'np' is not defined",
     "output_type": "error",
     "traceback": [
      "\u001b[1;31m---------------------------------------------------------------------------\u001b[0m",
      "\u001b[1;31mNameError\u001b[0m                                 Traceback (most recent call last)",
      "Cell \u001b[1;32mIn[2], line 15\u001b[0m\n\u001b[0;32m     12\u001b[0m     \u001b[38;5;28;01mif\u001b[39;00m \u001b[38;5;28mtype\u001b[39m(el) \u001b[38;5;129;01mis\u001b[39;00m \u001b[38;5;28mint\u001b[39m:\n\u001b[0;32m     13\u001b[0m         mass\u001b[38;5;241m.\u001b[39mappend(el)\n\u001b[1;32m---> 15\u001b[0m np\u001b[38;5;241m.\u001b[39mvar(mass, ddof\u001b[38;5;241m=\u001b[39m\u001b[38;5;241m0\u001b[39m)\n",
      "\u001b[1;31mNameError\u001b[0m: name 'np' is not defined"
     ]
    }
   ],
   "source": [
    "import pandas as pd\n",
    "s = pd.Series(data=['1', 5, 3.1, 'hello', -5, -1000, 12.78, 'world', 10.10, '!', 98], \n",
    "              index=range(6, 28, 2))\n",
    "\n",
    "new_s = pd.Series(data=s.values,\n",
    "                 index=range(4, 15))\n",
    "\n",
    "print(new_s)\n",
    "\n",
    "mass = []\n",
    "for el in new_s:\n",
    "    if type(el) is int:\n",
    "        mass.append(el)\n",
    "         \n",
    "np.var(mass, ddof=0)\n",
    "\n"
   ]
  },
  {
   "cell_type": "markdown",
   "id": "7fd00113",
   "metadata": {},
   "source": [
    "### Информация для последующих заданий\n",
    "- Для всех последующих заданий будем использовать обезличенные транзакционные банковские данные. Для этого считайте в переменные tr_mcc_codes, tr_types, transactions и gender_train из одноимённых таблиц из папки data. Для таблицы transactions используйте только первые n=1000000 строк. Обратите внимание на разделители внутри каждого из файлов - они могут различаться!"
   ]
  },
  {
   "cell_type": "markdown",
   "id": "147826ba",
   "metadata": {},
   "source": [
    "### Описание данных\n",
    "#### Таблица transactions.csv\n",
    "\n",
    "Таблица содержит историю транзакций клиентов банка за один год и три месяца.\n",
    "\n",
    "#### Формат данных\n",
    "\n",
    "customer_id,tr_datetime,mcc_code,tr_type,amount,term_id\n",
    "\n",
    "111111,15 01:40:52,1111,1000,-5224,111111\n",
    "\n",
    "111112,15 15:18:32,3333,2000,-100,11122233\n",
    "\n",
    "...\n",
    "\n",
    "#### Описание полей\n",
    "customer_id — идентификатор клиента;\n",
    "\n",
    "tr_datetime — день и время совершения транзакции (дни нумеруются с начала данных);\n",
    "\n",
    "mcc_code — mcc-код транзакции;\n",
    "\n",
    "tr_type — тип транзакции;\n",
    "\n",
    "amount — сумма транзакции в условных единицах со знаком; + — начисление средств клиенту (приходная транзакция), - — списание средств (расходная транзакция);\n",
    "\n",
    "term_id — идентификатор терминала;\n",
    "\n",
    "### Таблица gender_train.csv\n",
    "\n",
    "Данная таблица содержит информацию по полу для части клиентов, для которых он известен. Для остальных клиентов пол неизвестен.\n",
    "\n",
    "#### Формат данных\n",
    "customer_id,gender\n",
    "\n",
    "111111,0\n",
    "\n",
    "111112,1\n",
    "\n",
    "...\n",
    "\n",
    "#### Описание полей\n",
    "customer_id — идентификатор клиента;\n",
    "\n",
    "gender — пол клиента;\n",
    "\n",
    "### Таблица tr_mcc_codes.csv\n",
    "\n",
    "Данная таблица содержит описание mcc-кодов транзакций.\n",
    "\n",
    "#### Формат данных\n",
    "mcc_code;mcc_description\n",
    "\n",
    "1000;словесное описание mcc-кода 1000\n",
    "\n",
    "2000;словесное описание mcc-кода 2000\n",
    "\n",
    "...\n",
    "\n",
    "#### Описание полей\n",
    "mcc_code – mcc-код транзакции;\n",
    "\n",
    "mcc_description — описание mcc-кода транзакции.\n",
    "\n",
    "### Таблица tr_types.csv\n",
    "\n",
    "Данная таблица содержит описание типов транзакций.\n",
    "\n",
    "#### Формат данных\n",
    "tr_type;tr_description\n",
    "\n",
    "1000;словесное описание типа транзакции 1000\n",
    "\n",
    "2000;словесное описание типа транзакции 2000\n",
    "\n",
    "...\n",
    "\n",
    "#### Описание полей\n",
    "tr_type – тип транзакции;\n",
    "\n",
    "tr_description — описание типа транзакции;"
   ]
  },
  {
   "cell_type": "markdown",
   "id": "51fcaa63",
   "metadata": {},
   "source": [
    "# Задание 4"
   ]
  },
  {
   "cell_type": "markdown",
   "id": "6e0c8e6d",
   "metadata": {},
   "source": [
    "1. В датафрейме transactions задайте столбец  customer_id в качестве индекса.\n",
    "2. Выделите клиента с максимальной суммой транзакции (то есть с максимальным приходом на карту). (\\*)\n",
    "3. Найдите у него наиболее часто встречающийся модуль суммы приходов/расходов. (\\**)\n",
    "4. Выделите клиента с минимальной суммой транзакции.\n",
    "\n",
    "\n",
    "\n",
    "##### Пояснения:\n",
    "(\\*) Если у клиента были транзакции [-10000, 10, 0, -10], то максимумом будет являться значение 10. <br>\n",
    "(\\**) Если у клиента были транзакции [-10000, 10, 0, -10], то наиболее встречающийся модуль суммы транзакций равен 10, и встретился он 2 раза."
   ]
  },
  {
   "cell_type": "code",
   "execution_count": 11,
   "id": "34ab4486",
   "metadata": {},
   "outputs": [
    {
     "data": {
      "text/html": [
       "<div>\n",
       "<style scoped>\n",
       "    .dataframe tbody tr th:only-of-type {\n",
       "        vertical-align: middle;\n",
       "    }\n",
       "\n",
       "    .dataframe tbody tr th {\n",
       "        vertical-align: top;\n",
       "    }\n",
       "\n",
       "    .dataframe thead th {\n",
       "        text-align: right;\n",
       "    }\n",
       "</style>\n",
       "<table border=\"1\" class=\"dataframe\">\n",
       "  <thead>\n",
       "    <tr style=\"text-align: right;\">\n",
       "      <th></th>\n",
       "      <th>index</th>\n",
       "      <th>customer_id</th>\n",
       "      <th>tr_datetime</th>\n",
       "      <th>mcc_code</th>\n",
       "      <th>tr_type</th>\n",
       "      <th>amount</th>\n",
       "      <th>term_id</th>\n",
       "    </tr>\n",
       "  </thead>\n",
       "  <tbody>\n",
       "    <tr>\n",
       "      <th>308597</th>\n",
       "      <td>308597</td>\n",
       "      <td>26782922</td>\n",
       "      <td>151 11:35:44</td>\n",
       "      <td>6010</td>\n",
       "      <td>7070</td>\n",
       "      <td>1.459845e+08</td>\n",
       "      <td>NaN</td>\n",
       "    </tr>\n",
       "  </tbody>\n",
       "</table>\n",
       "</div>"
      ],
      "text/plain": [
       "         index  customer_id   tr_datetime  mcc_code  tr_type        amount  \\\n",
       "308597  308597     26782922  151 11:35:44      6010     7070  1.459845e+08   \n",
       "\n",
       "       term_id  \n",
       "308597     NaN  "
      ]
     },
     "execution_count": 11,
     "metadata": {},
     "output_type": "execute_result"
    }
   ],
   "source": [
    "file = pd.read_csv(\"transactions.csv\", nrows=1000000)\n",
    "df = file.reset_index()\n",
    "df.set_index('customer_id').drop(['index'], axis=1).head() \n",
    "\n",
    "df[df['amount'] == df['amount'].max()]\n"
   ]
  },
  {
   "cell_type": "markdown",
   "id": "9286b10e",
   "metadata": {},
   "source": [
    "# Задание 5"
   ]
  },
  {
   "cell_type": "markdown",
   "id": "0446eabd",
   "metadata": {},
   "source": [
    "Соедините transactions со всеми остальными таблицами (tr_mcc_codes, tr_types, gender_train). Причём с customers_gender_train необходимо смёрджиться с помощью left join, а с оставшимися датафреймами - через inner.\n",
    "После получения результата таблицы gender_train, tr_types, tr_mcc_codes можно удалить. В результате соединения датафреймов должно получиться 999584 строки."
   ]
  },
  {
   "cell_type": "code",
   "execution_count": null,
   "id": "e62d47dc",
   "metadata": {},
   "outputs": [],
   "source": [
    "### Type your code here"
   ]
  },
  {
   "cell_type": "markdown",
   "id": "7bffe82f",
   "metadata": {},
   "source": [
    "# Задание 6"
   ]
  },
  {
   "cell_type": "markdown",
   "id": "f1d64f1c",
   "metadata": {},
   "source": [
    "1. Определите модуль разницы между медианными тратами женщин и мужчин (трата - отрицательное значение amount). \n",
    "\n",
    "\n",
    "\n",
    "##### Пояснения:\n",
    "\n",
    "\n",
    "(\\**) Обратите внимание, что для вычисления модуля разности точных знаний о том,  \n",
    "какой класc относится к мужчинам, а какой - к женщинам, пока не требуется."
   ]
  },
  {
   "cell_type": "code",
   "execution_count": null,
   "id": "29ddf04d",
   "metadata": {},
   "outputs": [],
   "source": [
    "### Type your code here"
   ]
  },
  {
   "cell_type": "markdown",
   "id": "7fb2cb64",
   "metadata": {},
   "source": [
    "# Задание 7"
   ]
  },
  {
   "cell_type": "markdown",
   "id": "589e82f8",
   "metadata": {},
   "source": [
    "1. Выделите из поля tr_datetime относительный день tr_day (первое число до точного времени). (\\*)\n",
    "2. Отфильтруйте строки таким образом, чтобы оставить только те транзакции, у которых в соответствующий относительный день tr_day количество уникальных MCC кодов при транзакциях было больше 75 (можно воспользоваться функцией nunique())\n",
    "3. Сгруппируйте полученный отфильтрованный датафрейм по MCC коду и полу, после чего, пронализировав результат, выберите верные варианты ответов ниже (\\**): \n",
    "    - 1) gender == 0 - женщины, gender == 1 - мужчины\n",
    "    - 2) gender == 1 - женщины, gender == 0 - мужчины\n",
    "    - 3) Абсолютное значение медианы с типом \"Флористика\" (расходов/приходов) у мужчин выше той же медианы у женщин\n",
    "    - 4) Абсолютное значение медианы женских трат (расходов/приходов) на ценные бумаги выше мужских\n",
    "    - 5) Абсолютное значение медианы женских трат (расходов/приходов) в категории \"Бары, коктейль-бары, дискотеки, ночные клубы и таверны — места продажи алкогольных напитков\" ниже мужских\n",
    "    \n",
    "##### Пояснения:\n",
    "(\\*) Для того, чтобы выделить всё, что стоит до первого пробела, можно использовать строковые методы для датафрейма - .str.split(), например. \n",
    "(\\**) Понять, какой класс к какому типу транзакций (мужские/женские) относится можно, если поизучать типичные для мужчин/женщин категории и сравнить средние/медианы расходов и/или приходов в них.<br>\n",
    "Снять ограничение на количество выводимых строк можно с помощью:\n",
    "with pd.option_context('display.max_rows', None, 'display.max_columns', None):  \n",
    "    print(a)"
   ]
  },
  {
   "cell_type": "code",
   "execution_count": null,
   "id": "29baa8b2",
   "metadata": {},
   "outputs": [],
   "source": [
    "### Type your code here"
   ]
  },
  {
   "cell_type": "markdown",
   "id": "4e322068",
   "metadata": {},
   "source": [
    "# Задание 8"
   ]
  },
  {
   "cell_type": "markdown",
   "id": "bcaa4bf8",
   "metadata": {},
   "source": [
    "1. Разбейте расходы (отрицательные значения сумм) на 5 бакетов amount_bucket равного объёма (с помощью pd.qcut), разбив все траты на категории 'Very High', 'High', 'Middle', 'Low', 'Very Low'. (\\*)\n",
    "2. Оставшиеся неотрицательные траты отнесите к категории 'Income'.\n",
    "(воспользуйтесь функцией .cat.add_categories('Income') для того, чтобы добавить новую категорию 'Income' к категориям 'Very High', 'High', 'Middle', 'Low', 'Very Low', а затем заполните пустые значения новой категорией).\n",
    "3. Из поля tr_datetime выделите час tr_hour, в который произошла транзакция, как первые 2 цифры до \":\". (\\**)\n",
    "3. После этого постройте сводную таблицу, значениями в которой является пол gender, индексы - tr_hour, столбцы - amount_bucket.\n",
    "4. Отрисуйте полученные результаты, передав их в созданную функцию plot_pivot_table.\n",
    "5. Выберите верные ответы на вопросы ниже.\n",
    "\n",
    "#### Вопросы:\n",
    "     1) Ночные поступления денег (01-05 часов) в более чем 85% случаев являются мужскими.\n",
    "     2) Посмотрев на долю мужчин в поступлениях средств (Income), можно сделать вывод, что количество поступлений средств женщинам в целом больше, чем мужчинам.\n",
    "     3) Самые низкие траты в 3 часа ночи осуществляются в более 70% случаев женщинами.\n",
    "     4) Существуют особые часы в мелких тратах, когда женщины тратят намного больше мужчин (>80%)\n",
    "     5) Посмотрев на долю мужчин в максимальных тратах средств (Very High), можно сделать вывод, что количество высоких трат в каждый возможный час мужчин больше, чем у женщин.\n",
    "\n",
    "##### Пояснения:\n",
    "(\\*) Обратите внимание, что в категории Very High Должны оказаться максимальные по модулю отрицательные транзакции. <br>\n",
    "(\\**) Например, для строки \"0 10:23:26\" час будет равен 10, а для строки \"6 07:08:31\"- 07. Можно воспользоваться функциями str.split() или str.find() и \n",
    "функцией .apply(lambda x: x[])"
   ]
  },
  {
   "cell_type": "code",
   "execution_count": null,
   "id": "7c60a7b1",
   "metadata": {},
   "outputs": [],
   "source": [
    "### Type your code here"
   ]
  },
  {
   "cell_type": "markdown",
   "id": "dc551a8e",
   "metadata": {},
   "source": [
    "## Задание 9\n",
    "Считайте данные из файла 'winemag-data-130k-v2.csv'. \n",
    "а) Постройте точечный график (Scatter plot), по оси х отложите points, а по y - price.\n",
    "б) Постройте график Barplot количества вин по странам."
   ]
  },
  {
   "cell_type": "code",
   "execution_count": null,
   "id": "16f63b1e",
   "metadata": {},
   "outputs": [],
   "source": [
    "### Type your code here"
   ]
  }
 ],
 "metadata": {
  "kernelspec": {
   "display_name": "Python 3 (ipykernel)",
   "language": "python",
   "name": "python3"
  },
  "language_info": {
   "codemirror_mode": {
    "name": "ipython",
    "version": 3
   },
   "file_extension": ".py",
   "mimetype": "text/x-python",
   "name": "python",
   "nbconvert_exporter": "python",
   "pygments_lexer": "ipython3",
   "version": "3.11.7"
  }
 },
 "nbformat": 4,
 "nbformat_minor": 5
}
